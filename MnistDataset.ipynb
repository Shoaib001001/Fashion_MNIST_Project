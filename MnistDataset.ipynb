{
  "nbformat": 4,
  "nbformat_minor": 0,
  "metadata": {
    "colab": {
      "provenance": []
    },
    "kernelspec": {
      "name": "python3",
      "display_name": "Python 3"
    },
    "language_info": {
      "name": "python"
    }
  },
  "cells": [
    {
      "cell_type": "markdown",
      "source": [
        "**INSTALL TENSORFLOW**"
      ],
      "metadata": {
        "id": "xy_IpSXvGM0J"
      }
    },
    {
      "cell_type": "code",
      "execution_count": 1,
      "metadata": {
        "colab": {
          "base_uri": "https://localhost:8080/"
        },
        "id": "ZtmSN_dAGKs8",
        "outputId": "fd129d45-25ec-4a04-b045-9aa29b485b5c"
      },
      "outputs": [
        {
          "output_type": "stream",
          "name": "stdout",
          "text": [
            "Requirement already satisfied: tensorflow in /usr/local/lib/python3.11/dist-packages (2.17.1)\n",
            "Requirement already satisfied: absl-py>=1.0.0 in /usr/local/lib/python3.11/dist-packages (from tensorflow) (1.4.0)\n",
            "Requirement already satisfied: astunparse>=1.6.0 in /usr/local/lib/python3.11/dist-packages (from tensorflow) (1.6.3)\n",
            "Requirement already satisfied: flatbuffers>=24.3.25 in /usr/local/lib/python3.11/dist-packages (from tensorflow) (24.12.23)\n",
            "Requirement already satisfied: gast!=0.5.0,!=0.5.1,!=0.5.2,>=0.2.1 in /usr/local/lib/python3.11/dist-packages (from tensorflow) (0.6.0)\n",
            "Requirement already satisfied: google-pasta>=0.1.1 in /usr/local/lib/python3.11/dist-packages (from tensorflow) (0.2.0)\n",
            "Requirement already satisfied: h5py>=3.10.0 in /usr/local/lib/python3.11/dist-packages (from tensorflow) (3.12.1)\n",
            "Requirement already satisfied: libclang>=13.0.0 in /usr/local/lib/python3.11/dist-packages (from tensorflow) (18.1.1)\n",
            "Requirement already satisfied: ml-dtypes<0.5.0,>=0.3.1 in /usr/local/lib/python3.11/dist-packages (from tensorflow) (0.4.1)\n",
            "Requirement already satisfied: opt-einsum>=2.3.2 in /usr/local/lib/python3.11/dist-packages (from tensorflow) (3.4.0)\n",
            "Requirement already satisfied: packaging in /usr/local/lib/python3.11/dist-packages (from tensorflow) (24.2)\n",
            "Requirement already satisfied: protobuf!=4.21.0,!=4.21.1,!=4.21.2,!=4.21.3,!=4.21.4,!=4.21.5,<5.0.0dev,>=3.20.3 in /usr/local/lib/python3.11/dist-packages (from tensorflow) (4.25.5)\n",
            "Requirement already satisfied: requests<3,>=2.21.0 in /usr/local/lib/python3.11/dist-packages (from tensorflow) (2.32.3)\n",
            "Requirement already satisfied: setuptools in /usr/local/lib/python3.11/dist-packages (from tensorflow) (75.1.0)\n",
            "Requirement already satisfied: six>=1.12.0 in /usr/local/lib/python3.11/dist-packages (from tensorflow) (1.17.0)\n",
            "Requirement already satisfied: termcolor>=1.1.0 in /usr/local/lib/python3.11/dist-packages (from tensorflow) (2.5.0)\n",
            "Requirement already satisfied: typing-extensions>=3.6.6 in /usr/local/lib/python3.11/dist-packages (from tensorflow) (4.12.2)\n",
            "Requirement already satisfied: wrapt>=1.11.0 in /usr/local/lib/python3.11/dist-packages (from tensorflow) (1.17.0)\n",
            "Requirement already satisfied: grpcio<2.0,>=1.24.3 in /usr/local/lib/python3.11/dist-packages (from tensorflow) (1.69.0)\n",
            "Requirement already satisfied: tensorboard<2.18,>=2.17 in /usr/local/lib/python3.11/dist-packages (from tensorflow) (2.17.1)\n",
            "Requirement already satisfied: keras>=3.2.0 in /usr/local/lib/python3.11/dist-packages (from tensorflow) (3.5.0)\n",
            "Requirement already satisfied: tensorflow-io-gcs-filesystem>=0.23.1 in /usr/local/lib/python3.11/dist-packages (from tensorflow) (0.37.1)\n",
            "Requirement already satisfied: numpy<2.0.0,>=1.23.5 in /usr/local/lib/python3.11/dist-packages (from tensorflow) (1.26.4)\n",
            "Requirement already satisfied: wheel<1.0,>=0.23.0 in /usr/local/lib/python3.11/dist-packages (from astunparse>=1.6.0->tensorflow) (0.45.1)\n",
            "Requirement already satisfied: rich in /usr/local/lib/python3.11/dist-packages (from keras>=3.2.0->tensorflow) (13.9.4)\n",
            "Requirement already satisfied: namex in /usr/local/lib/python3.11/dist-packages (from keras>=3.2.0->tensorflow) (0.0.8)\n",
            "Requirement already satisfied: optree in /usr/local/lib/python3.11/dist-packages (from keras>=3.2.0->tensorflow) (0.13.1)\n",
            "Requirement already satisfied: charset-normalizer<4,>=2 in /usr/local/lib/python3.11/dist-packages (from requests<3,>=2.21.0->tensorflow) (3.4.1)\n",
            "Requirement already satisfied: idna<4,>=2.5 in /usr/local/lib/python3.11/dist-packages (from requests<3,>=2.21.0->tensorflow) (3.10)\n",
            "Requirement already satisfied: urllib3<3,>=1.21.1 in /usr/local/lib/python3.11/dist-packages (from requests<3,>=2.21.0->tensorflow) (2.3.0)\n",
            "Requirement already satisfied: certifi>=2017.4.17 in /usr/local/lib/python3.11/dist-packages (from requests<3,>=2.21.0->tensorflow) (2024.12.14)\n",
            "Requirement already satisfied: markdown>=2.6.8 in /usr/local/lib/python3.11/dist-packages (from tensorboard<2.18,>=2.17->tensorflow) (3.7)\n",
            "Requirement already satisfied: tensorboard-data-server<0.8.0,>=0.7.0 in /usr/local/lib/python3.11/dist-packages (from tensorboard<2.18,>=2.17->tensorflow) (0.7.2)\n",
            "Requirement already satisfied: werkzeug>=1.0.1 in /usr/local/lib/python3.11/dist-packages (from tensorboard<2.18,>=2.17->tensorflow) (3.1.3)\n",
            "Requirement already satisfied: MarkupSafe>=2.1.1 in /usr/local/lib/python3.11/dist-packages (from werkzeug>=1.0.1->tensorboard<2.18,>=2.17->tensorflow) (3.0.2)\n",
            "Requirement already satisfied: markdown-it-py>=2.2.0 in /usr/local/lib/python3.11/dist-packages (from rich->keras>=3.2.0->tensorflow) (3.0.0)\n",
            "Requirement already satisfied: pygments<3.0.0,>=2.13.0 in /usr/local/lib/python3.11/dist-packages (from rich->keras>=3.2.0->tensorflow) (2.18.0)\n",
            "Requirement already satisfied: mdurl~=0.1 in /usr/local/lib/python3.11/dist-packages (from markdown-it-py>=2.2.0->rich->keras>=3.2.0->tensorflow) (0.1.2)\n"
          ]
        }
      ],
      "source": [
        "!pip install tensorflow"
      ]
    },
    {
      "cell_type": "code",
      "source": [
        "import tensorflow as tf\n",
        "print(tf.__version__)"
      ],
      "metadata": {
        "colab": {
          "base_uri": "https://localhost:8080/"
        },
        "id": "CxTKRLZUGL1q",
        "outputId": "7c90e3c0-7b8f-437d-88a7-d57c99e3473d"
      },
      "execution_count": 2,
      "outputs": [
        {
          "output_type": "stream",
          "name": "stdout",
          "text": [
            "2.17.1\n"
          ]
        }
      ]
    },
    {
      "cell_type": "markdown",
      "source": [
        "**DATA SETS MNIST**"
      ],
      "metadata": {
        "id": "AaIikz6xGbJl"
      }
    },
    {
      "cell_type": "code",
      "source": [
        "mnist = tf.keras.datasets.fashion_mnist\n",
        "(training_images, training_labels), (test_images, test_labels) = mnist.load_data()"
      ],
      "metadata": {
        "colab": {
          "base_uri": "https://localhost:8080/"
        },
        "id": "yMk0BJIXGYJC",
        "outputId": "d6d62dbc-c566-4ffa-90fa-bbcb8fc7a4b7"
      },
      "execution_count": 3,
      "outputs": [
        {
          "output_type": "stream",
          "name": "stdout",
          "text": [
            "Downloading data from https://storage.googleapis.com/tensorflow/tf-keras-datasets/train-labels-idx1-ubyte.gz\n",
            "\u001b[1m29515/29515\u001b[0m \u001b[32m━━━━━━━━━━━━━━━━━━━━\u001b[0m\u001b[37m\u001b[0m \u001b[1m0s\u001b[0m 0us/step\n",
            "Downloading data from https://storage.googleapis.com/tensorflow/tf-keras-datasets/train-images-idx3-ubyte.gz\n",
            "\u001b[1m26421880/26421880\u001b[0m \u001b[32m━━━━━━━━━━━━━━━━━━━━\u001b[0m\u001b[37m\u001b[0m \u001b[1m0s\u001b[0m 0us/step\n",
            "Downloading data from https://storage.googleapis.com/tensorflow/tf-keras-datasets/t10k-labels-idx1-ubyte.gz\n",
            "\u001b[1m5148/5148\u001b[0m \u001b[32m━━━━━━━━━━━━━━━━━━━━\u001b[0m\u001b[37m\u001b[0m \u001b[1m0s\u001b[0m 1us/step\n",
            "Downloading data from https://storage.googleapis.com/tensorflow/tf-keras-datasets/t10k-images-idx3-ubyte.gz\n",
            "\u001b[1m4422102/4422102\u001b[0m \u001b[32m━━━━━━━━━━━━━━━━━━━━\u001b[0m\u001b[37m\u001b[0m \u001b[1m0s\u001b[0m 0us/step\n"
          ]
        }
      ]
    },
    {
      "cell_type": "code",
      "source": [
        "import numpy as np\n",
        "np.set_printoptions(linewidth=320)\n",
        "import matplotlib.pyplot as plt\n",
        "plt.imshow(training_images[1])\n",
        "print(training_labels[1])\n",
        "print(training_images[1])"
      ],
      "metadata": {
        "colab": {
          "base_uri": "https://localhost:8080/",
          "height": 953
        },
        "id": "vp3RalfJGima",
        "outputId": "63d24cb0-34be-4131-8c4e-3e34a9bd4ac5"
      },
      "execution_count": 10,
      "outputs": [
        {
          "output_type": "stream",
          "name": "stdout",
          "text": [
            "0\n",
            "[[0.         0.         0.         0.         0.         0.00392157 0.         0.         0.         0.         0.16078431 0.7372549  0.40392157 0.21176471 0.18823529 0.16862745 0.34117647 0.65882353 0.52156863 0.0627451  0.         0.         0.         0.         0.         0.         0.         0.        ]\n",
            " [0.         0.         0.         0.00392157 0.         0.         0.         0.19215686 0.53333333 0.85882353 0.84705882 0.89411765 0.9254902  1.         1.         1.         1.         0.85098039 0.84313725 0.99607843 0.90588235 0.62745098 0.17647059 0.         0.         0.         0.         0.        ]\n",
            " [0.         0.         0.         0.         0.         0.05490196 0.69019608 0.87058824 0.87843137 0.83137255 0.79607843 0.77647059 0.76862745 0.78431373 0.84313725 0.8        0.79215686 0.78823529 0.78823529 0.78823529 0.81960784 0.85490196 0.87843137 0.64313725 0.         0.         0.         0.        ]\n",
            " [0.         0.         0.         0.         0.         0.7372549  0.85882353 0.78431373 0.77647059 0.79215686 0.77647059 0.78039216 0.78039216 0.78823529 0.76862745 0.77647059 0.77647059 0.78431373 0.78431373 0.78431373 0.78431373 0.78823529 0.78431373 0.88235294 0.16078431 0.         0.         0.        ]\n",
            " [0.         0.         0.         0.         0.2        0.85882353 0.78039216 0.79607843 0.79607843 0.83137255 0.93333333 0.97254902 0.98039216 0.96078431 0.97647059 0.96470588 0.96862745 0.98823529 0.97254902 0.92156863 0.81176471 0.79607843 0.79607843 0.87058824 0.54901961 0.         0.         0.        ]\n",
            " [0.         0.         0.         0.         0.45490196 0.88627451 0.80784314 0.8        0.81176471 0.8        0.39607843 0.29411765 0.18431373 0.28627451 0.18823529 0.19607843 0.17647059 0.2        0.24705882 0.44313725 0.87058824 0.79215686 0.80784314 0.8627451  0.87843137 0.         0.         0.        ]\n",
            " [0.         0.         0.         0.         0.78431373 0.87058824 0.81960784 0.79607843 0.84313725 0.78431373 0.         0.2745098  0.38431373 0.         0.40392157 0.23137255 0.26666667 0.27843137 0.19215686 0.         0.85882353 0.80784314 0.83921569 0.82352941 0.98039216 0.14901961 0.         0.        ]\n",
            " [0.         0.         0.         0.         0.96862745 0.85490196 0.83137255 0.82352941 0.84313725 0.83921569 0.         0.99607843 0.95294118 0.54509804 1.         0.68235294 0.98431373 1.         0.80392157 0.         0.84313725 0.85098039 0.83921569 0.81568627 0.8627451  0.37254902 0.         0.        ]\n",
            " [0.         0.         0.         0.17647059 0.88627451 0.83921569 0.83921569 0.84313725 0.87843137 0.80392157 0.         0.16470588 0.1372549  0.23529412 0.0627451  0.06666667 0.04705882 0.05098039 0.2745098  0.         0.74117647 0.84705882 0.83137255 0.80784314 0.83137255 0.61176471 0.         0.        ]\n",
            " [0.         0.         0.         0.64313725 0.92156863 0.83921569 0.82745098 0.8627451  0.84705882 0.78823529 0.20392157 0.27843137 0.34901961 0.36862745 0.3254902  0.30588235 0.2745098  0.29803922 0.36078431 0.34117647 0.80784314 0.81176471 0.87058824 0.83529412 0.85882353 0.81568627 0.         0.        ]\n",
            " [0.         0.         0.         0.41568627 0.73333333 0.8745098  0.92941176 0.97254902 0.82745098 0.77647059 0.98823529 0.98039216 0.97254902 0.96078431 0.97254902 0.98823529 0.99215686 0.98039216 0.98823529 0.9372549  0.78823529 0.83137255 0.88235294 0.84313725 0.75686275 0.44313725 0.         0.        ]\n",
            " [0.         0.         0.         0.         0.         0.06666667 0.21176471 0.62352941 0.87058824 0.75686275 0.81568627 0.75294118 0.77254902 0.78431373 0.78431373 0.78431373 0.78431373 0.78823529 0.79607843 0.76470588 0.82352941 0.64705882 0.         0.         0.         0.         0.         0.        ]\n",
            " [0.         0.         0.         0.         0.         0.         0.         0.18431373 0.88235294 0.75294118 0.83921569 0.79607843 0.80784314 0.8        0.8        0.80392157 0.80784314 0.8        0.83137255 0.77254902 0.85490196 0.41960784 0.         0.         0.         0.         0.         0.        ]\n",
            " [0.         0.         0.         0.         0.00392157 0.02352941 0.         0.18039216 0.83137255 0.76470588 0.83137255 0.79215686 0.80784314 0.80392157 0.8        0.80392157 0.80784314 0.8        0.83137255 0.78431373 0.85490196 0.35686275 0.         0.01176471 0.00392157 0.         0.         0.        ]\n",
            " [0.         0.         0.         0.         0.         0.00392157 0.         0.04313725 0.77254902 0.78039216 0.80392157 0.79215686 0.80392157 0.80784314 0.8        0.80392157 0.81176471 0.8        0.80392157 0.80392157 0.85490196 0.30196078 0.         0.01960784 0.         0.         0.         0.        ]\n",
            " [0.         0.         0.         0.         0.         0.01176471 0.         0.00784314 0.74901961 0.77647059 0.78823529 0.80392157 0.80784314 0.80392157 0.80392157 0.80784314 0.81960784 0.80784314 0.78039216 0.81960784 0.85882353 0.29019608 0.         0.01960784 0.         0.         0.         0.        ]\n",
            " [0.         0.         0.         0.         0.         0.00784314 0.         0.         0.7372549  0.77254902 0.78431373 0.81176471 0.81176471 0.8        0.81176471 0.81176471 0.82352941 0.81568627 0.77647059 0.81176471 0.86666667 0.28235294 0.         0.01568627 0.         0.         0.         0.        ]\n",
            " [0.         0.         0.         0.         0.         0.00784314 0.         0.         0.84313725 0.77647059 0.79607843 0.80784314 0.81568627 0.80392157 0.81176471 0.81176471 0.82352941 0.81568627 0.78431373 0.79215686 0.87058824 0.29411765 0.         0.01568627 0.         0.         0.         0.        ]\n",
            " [0.         0.         0.         0.         0.         0.00392157 0.         0.         0.83137255 0.77647059 0.81960784 0.80784314 0.81960784 0.80784314 0.81568627 0.81176471 0.82745098 0.80784314 0.80392157 0.77647059 0.86666667 0.31372549 0.         0.01176471 0.         0.         0.         0.        ]\n",
            " [0.         0.         0.         0.         0.         0.00392157 0.         0.         0.8        0.78823529 0.80392157 0.81568627 0.81176471 0.80392157 0.82745098 0.80392157 0.82352941 0.82352941 0.81960784 0.76470588 0.86666667 0.37647059 0.         0.01176471 0.         0.         0.         0.        ]\n",
            " [0.         0.         0.         0.         0.         0.00392157 0.         0.         0.79215686 0.78823529 0.80392157 0.81960784 0.81176471 0.80392157 0.83529412 0.80784314 0.82352941 0.81960784 0.82352941 0.76078431 0.85098039 0.41176471 0.         0.00784314 0.         0.         0.         0.        ]\n",
            " [0.         0.         0.         0.         0.         0.00392157 0.         0.         0.8        0.8        0.80392157 0.81568627 0.81176471 0.80392157 0.84313725 0.81176471 0.82352941 0.81568627 0.82745098 0.75686275 0.83529412 0.45098039 0.         0.00784314 0.         0.         0.         0.        ]\n",
            " [0.         0.         0.         0.         0.         0.         0.         0.         0.8        0.81176471 0.81176471 0.81568627 0.80784314 0.80784314 0.84313725 0.82352941 0.82352941 0.81176471 0.83137255 0.76470588 0.82352941 0.4627451  0.         0.00784314 0.         0.         0.         0.        ]\n",
            " [0.         0.         0.         0.         0.         0.00392157 0.         0.         0.77647059 0.81568627 0.81568627 0.81568627 0.8        0.81176471 0.83137255 0.83137255 0.82352941 0.81176471 0.82745098 0.76862745 0.81176471 0.4745098  0.         0.00392157 0.         0.         0.         0.        ]\n",
            " [0.         0.         0.         0.         0.         0.00392157 0.         0.         0.77647059 0.82352941 0.81176471 0.81568627 0.80784314 0.81960784 0.83529412 0.83137255 0.82745098 0.81176471 0.82352941 0.77254902 0.81176471 0.48627451 0.         0.00392157 0.         0.         0.         0.        ]\n",
            " [0.         0.         0.         0.         0.         0.         0.         0.         0.6745098  0.82352941 0.79607843 0.78823529 0.78039216 0.8        0.81176471 0.80392157 0.8        0.78823529 0.80392157 0.77254902 0.80784314 0.49803922 0.         0.         0.         0.         0.         0.        ]\n",
            " [0.         0.         0.         0.         0.         0.         0.         0.         0.7372549  0.86666667 0.83921569 0.91764706 0.9254902  0.93333333 0.95686275 0.95686275 0.95686275 0.94117647 0.95294118 0.83921569 0.87843137 0.63529412 0.         0.00784314 0.         0.         0.         0.        ]\n",
            " [0.         0.         0.         0.         0.         0.00392157 0.         0.         0.54509804 0.57254902 0.50980392 0.52941176 0.52941176 0.5372549  0.49019608 0.48627451 0.49019608 0.4745098  0.46666667 0.44705882 0.50980392 0.29803922 0.         0.         0.         0.         0.         0.        ]]\n"
          ]
        },
        {
          "output_type": "display_data",
          "data": {
            "text/plain": [
              "<Figure size 640x480 with 1 Axes>"
            ],
            "image/png": "[encoded data removed]"
          },
          "metadata": {}
        }
      ]
    },
    {
      "cell_type": "markdown",
      "source": [
        "**NORMALIZING THE DATA**"
      ],
      "metadata": {
        "id": "dwPCv7KYGqt2"
      }
    },
    {
      "cell_type": "code",
      "source": [
        "training_images = training_images / 255.0\n",
        "test_images = test_images / 255.0"
      ],
      "metadata": {
        "id": "zBi92IqRGlX0"
      },
      "execution_count": 5,
      "outputs": []
    },
    {
      "cell_type": "markdown",
      "source": [
        "**TRAINING THE DATASETS**"
      ],
      "metadata": {
        "id": "mhO6kjf2G3Xn"
      }
    },
    {
      "cell_type": "code",
      "source": [
        "model = tf.keras.models.Sequential([tf.keras.layers.Flatten(),\n",
        "                                   tf.keras.layers.Dense(128, activation=tf.nn.relu),\n",
        "                                   tf.keras.layers.Dense(10, activation=tf.nn.softmax)])"
      ],
      "metadata": {
        "id": "WcBVgOHJG2AU"
      },
      "execution_count": 6,
      "outputs": []
    },
    {
      "cell_type": "code",
      "source": [
        "model.compile(optimizer = tf.optimizers.Adam(),\n",
        "              loss = 'sparse_categorical_crossentropy',\n",
        "              metrics=['accuracy'])\n",
        "model.fit(training_images, training_labels, epochs=5)"
      ],
      "metadata": {
        "colab": {
          "base_uri": "https://localhost:8080/"
        },
        "id": "M8CEtojJG_Ao",
        "outputId": "d7fcbd49-b814-4220-97ee-b9288ba262c5"
      },
      "execution_count": 7,
      "outputs": [
        {
          "output_type": "stream",
          "name": "stdout",
          "text": [
            "Epoch 1/5\n",
            "\u001b[1m1875/1875\u001b[0m \u001b[32m━━━━━━━━━━━━━━━━━━━━\u001b[0m\u001b[37m\u001b[0m \u001b[1m14s\u001b[0m 6ms/step - accuracy: 0.7832 - loss: 0.6258\n",
            "Epoch 2/5\n",
            "\u001b[1m1875/1875\u001b[0m \u001b[32m━━━━━━━━━━━━━━━━━━━━\u001b[0m\u001b[37m\u001b[0m \u001b[1m7s\u001b[0m 4ms/step - accuracy: 0.8625 - loss: 0.3775\n",
            "Epoch 3/5\n",
            "\u001b[1m1875/1875\u001b[0m \u001b[32m━━━━━━━━━━━━━━━━━━━━\u001b[0m\u001b[37m\u001b[0m \u001b[1m12s\u001b[0m 5ms/step - accuracy: 0.8770 - loss: 0.3374\n",
            "Epoch 4/5\n",
            "\u001b[1m1875/1875\u001b[0m \u001b[32m━━━━━━━━━━━━━━━━━━━━\u001b[0m\u001b[37m\u001b[0m \u001b[1m12s\u001b[0m 6ms/step - accuracy: 0.8835 - loss: 0.3131\n",
            "Epoch 5/5\n",
            "\u001b[1m1875/1875\u001b[0m \u001b[32m━━━━━━━━━━━━━━━━━━━━\u001b[0m\u001b[37m\u001b[0m \u001b[1m9s\u001b[0m 5ms/step - accuracy: 0.8899 - loss: 0.2963\n"
          ]
        },
        {
          "output_type": "execute_result",
          "data": {
            "text/plain": [
              "<keras.src.callbacks.history.History at 0x78a6ea49f450>"
            ]
          },
          "metadata": {},
          "execution_count": 7
        }
      ]
    },
    {
      "cell_type": "markdown",
      "source": [
        "**EVALUATING THE DATA**"
      ],
      "metadata": {
        "id": "-OHtz4zpHIPa"
      }
    },
    {
      "cell_type": "code",
      "source": [
        "model.evaluate(test_images, test_labels)"
      ],
      "metadata": {
        "colab": {
          "base_uri": "https://localhost:8080/"
        },
        "id": "K7nuZJ8HHEWK",
        "outputId": "93df592d-ae22-42fe-84a6-0e6ec9d51cf4"
      },
      "execution_count": 8,
      "outputs": [
        {
          "output_type": "stream",
          "name": "stdout",
          "text": [
            "\u001b[1m313/313\u001b[0m \u001b[32m━━━━━━━━━━━━━━━━━━━━\u001b[0m\u001b[37m\u001b[0m \u001b[1m1s\u001b[0m 3ms/step - accuracy: 0.8802 - loss: 0.3300\n"
          ]
        },
        {
          "output_type": "execute_result",
          "data": {
            "text/plain": [
              "[0.3366331458091736, 0.8798999786376953]"
            ]
          },
          "metadata": {},
          "execution_count": 8
        }
      ]
    },
    {
      "cell_type": "code",
      "source": [],
      "metadata": {
        "id": "64pgN8BCHQ85"
      },
      "execution_count": null,
      "outputs": []
    }
  ]
}